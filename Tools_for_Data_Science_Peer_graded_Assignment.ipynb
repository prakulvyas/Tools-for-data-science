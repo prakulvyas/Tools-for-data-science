{
  "cells": [
    {
      "cell_type": "markdown",
      "metadata": {
        "id": "HOA44qBVbhyr"
      },
      "source": [
        "<center>\n",
        "    <img src=\"https://cf-courses-data.s3.us.cloud-object-storage.appdomain.cloud/IBMDeveloperSkillsNetwork-DS0105EN-SkillsNetwork/labs/Module2/images/SN_web_lightmode.png\" width=\"300\" alt=\"cognitiveclass.ai logo\">\n",
        "</center>\n"
      ],
      "id": "HOA44qBVbhyr"
    },
    {
      "cell_type": "markdown",
      "id": "faf745f0",
      "metadata": {
        "id": "faf745f0"
      },
      "source": [
        "<H1>My Jupyter Notebook on IBM Watson Studio<H1>"
      ]
    },
    {
      "cell_type": "markdown",
      "id": "e3a92563",
      "metadata": {
        "id": "e3a92563"
      },
      "source": [
        "<b>Prakul Vyas </b><br>Data Scientist "
      ]
    },
    {
      "cell_type": "markdown",
      "id": "d00ce2ec",
      "metadata": {
        "id": "d00ce2ec"
      },
      "source": [
        "<i>I am interested in data science because data i want to become a datascietist under the industry of Real Estate ,I want to be able help clients to make make best real Estate investments\n",
        ", having huge command of Data science it will personally help me to make good business decisions. <i>"
      ]
    },
    {
      "cell_type": "markdown",
      "id": "ecea0c6a",
      "metadata": {
        "id": "ecea0c6a"
      },
      "source": [
        "<h3>The Following Code will Display today's time and date</h3> "
      ]
    },
    {
      "cell_type": "code",
      "execution_count": 1,
      "id": "13732add",
      "metadata": {
        "colab": {
          "base_uri": "https://localhost:8080/"
        },
        "id": "13732add",
        "outputId": "e3ed917d-359d-48dd-f910-aeab28337fc7"
      },
      "outputs": [
        {
          "output_type": "stream",
          "name": "stdout",
          "text": [
            "Today's Date and Time is  2023-02-19 16:30:20.101719\n"
          ]
        }
      ],
      "source": [
        "import datetime \n",
        "message = \"Today's Date and Time is \" \n",
        "print (message , datetime.datetime.now() )"
      ]
    },
    {
      "cell_type": "markdown",
      "id": "670b3f79",
      "metadata": {
        "id": "670b3f79"
      },
      "source": [
        "<html>\n",
        "<header>\n",
        "</header>\n",
        "\n",
        "<body>\n",
        "    <section>\n",
        "        <h1> My favourite Fruits</h1>\n",
        "        <ol>\n",
        "            <li>Apple</li>\n",
        "            <li>Banana</li>\n",
        "            <li>Orange</li>\n",
        "            <li>Mango</li>\n",
        "            <li>Grapes</li>\n",
        "        </ol>\n",
        "        <hr>\n",
        "        <table border=\"1px\">\n",
        "            <tr>\n",
        "                <td><b>Needs</b></td>\n",
        "                <td><b>Wants</b></td>\n",
        "            </tr>\n",
        "            <tr>\n",
        "                <td>Water</td>\n",
        "                <td>Car</td>\n",
        "            </tr>\n",
        "            <tr>\n",
        "                <td>Food</td>\n",
        "                <td>Phone</td>\n",
        "            </tr>\n",
        "            <tr>\n",
        "                <td>Education</td>\n",
        "                <td>Computer</td>\n",
        "            </tr>\n",
        "            <tr>\n",
        "                <td>Medicine</td>\n",
        "                <td>Television</td>\n",
        "            </tr>\n",
        "        </table>\n",
        "        <br>\n",
        "        <hr>\n",
        "    </section>\n",
        "    <footer>\n",
        "        <a href=\"https://web.facebook.com/\">https://web.facebook.com/</a>\n",
        "    </footer>\n",
        "</body>\n",
        "</html>"
      ]
    },
    {
      "cell_type": "markdown",
      "id": "ad581afd",
      "metadata": {
        "id": "ad581afd"
      },
      "source": []
    },
    {
      "cell_type": "code",
      "execution_count": null,
      "id": "c01b902a",
      "metadata": {
        "id": "c01b902a"
      },
      "outputs": [],
      "source": []
    }
  ],
  "metadata": {
    "kernelspec": {
      "display_name": "Python 3 (ipykernel)",
      "language": "python",
      "name": "python3"
    },
    "language_info": {
      "codemirror_mode": {
        "name": "ipython",
        "version": 3
      },
      "file_extension": ".py",
      "mimetype": "text/x-python",
      "name": "python",
      "nbconvert_exporter": "python",
      "pygments_lexer": "ipython3",
      "version": "3.9.7"
    },
    "colab": {
      "provenance": []
    }
  },
  "nbformat": 4,
  "nbformat_minor": 5
}